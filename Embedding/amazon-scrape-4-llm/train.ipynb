{
 "cells": [
  {
   "cell_type": "code",
   "execution_count": 3,
   "metadata": {},
   "outputs": [],
   "source": [
    "import numpy as np\n",
    "import pandas as pd\n",
    "\n",
    "from sklearn.naive_bayes import GaussianNB\n",
    "from sklearn.metrics import accuracy_score\n",
    "from transformers import pipeline"
   ]
  },
  {
   "cell_type": "markdown",
   "metadata": {},
   "source": [
    "## Load Data\n"
   ]
  },
  {
   "cell_type": "code",
   "execution_count": 4,
   "metadata": {},
   "outputs": [],
   "source": [
    "base_data_path = \"../../data/I-created/amazon-scrape-4-llm/\"\n",
    "df_train = pd.read_csv(base_data_path + \"amazon.csv\")\n",
    "df_test = pd.read_csv(base_data_path + \"laptops.csv\")\n",
    "\n",
    "train_texts, train_labels = df_train.to_dict(\"list\").values()\n",
    "val_texts, val_labels = df_test.to_dict(\"list\").values()"
   ]
  },
  {
   "cell_type": "code",
   "execution_count": 9,
   "metadata": {},
   "outputs": [],
   "source": [
    "max_length = 128\n",
    "\n",
    "m = pipeline(\n",
    "    \"feature-extraction\", \"BAAI/bge-small-en-v1.5\", truncation=True, return_tensors=\"pt\"\n",
    ")\n",
    "nb = GaussianNB()"
   ]
  },
  {
   "cell_type": "code",
   "execution_count": 7,
   "metadata": {},
   "outputs": [],
   "source": [
    "X_train = m(train_texts[:])\n",
    "X_train = np.array([x[0, 0, :] for x in X_train])\n",
    "\n",
    "X_test = m(val_texts[:])\n",
    "X_test = np.array([x[0, 0, :] for x in X_test])"
   ]
  },
  {
   "cell_type": "code",
   "execution_count": 10,
   "metadata": {},
   "outputs": [
    {
     "data": {
      "text/plain": [
       "0.8535980148883374"
      ]
     },
     "execution_count": 10,
     "metadata": {},
     "output_type": "execute_result"
    }
   ],
   "source": [
    "nb.fit(X_train, train_labels)\n",
    "accuracy_score(nb.predict(X_test), val_labels)"
   ]
  }
 ],
 "metadata": {
  "kernelspec": {
   "display_name": "Python 3",
   "language": "python",
   "name": "python3"
  },
  "language_info": {
   "codemirror_mode": {
    "name": "ipython",
    "version": 3
   },
   "file_extension": ".py",
   "mimetype": "text/x-python",
   "name": "python",
   "nbconvert_exporter": "python",
   "pygments_lexer": "ipython3",
   "version": "3.11.5"
  }
 },
 "nbformat": 4,
 "nbformat_minor": 2
}
