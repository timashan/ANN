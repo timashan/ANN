{
 "cells": [
  {
   "cell_type": "markdown",
   "metadata": {},
   "source": [
    "# MNIST"
   ]
  },
  {
   "cell_type": "code",
   "execution_count": 2,
   "metadata": {},
   "outputs": [],
   "source": [
    "import numpy as np\n",
    "import pandas as pd\n",
    "from matplotlib import pyplot as plt\n",
    "\n",
    "import torch\n",
    "from torch import nn\n",
    "from torch.nn import functional as F\n",
    "import torchvision\n",
    "from torchvision import datasets\n",
    "\n",
    "from tqdm import tqdm\n",
    "\n",
    "from constants import *"
   ]
  },
  {
   "cell_type": "code",
   "execution_count": 3,
   "metadata": {},
   "outputs": [
    {
     "data": {
      "text/plain": [
       "(torch.Size([60000, 28, 28]), torch.Size([10000, 28, 28]))"
      ]
     },
     "execution_count": 3,
     "metadata": {},
     "output_type": "execute_result"
    }
   ],
   "source": [
    "mnist_trainset = datasets.MNIST(root='./data', train=True, download=True, transform=None)\n",
    "train_loader = torch.utils.data.DataLoader(mnist_trainset)\n",
    "mnist_testset = datasets.MNIST(root='./data', train=False, download=True, transform=None)\n",
    "train_loader = torch.utils.data.DataLoader(mnist_testset)\n",
    "\n",
    "X_train, y_train = mnist_trainset.data, mnist_trainset.targets\n",
    "X_test, y_test = mnist_testset.data, mnist_testset.targets\n",
    "X_train.shape, X_test.shape"
   ]
  },
  {
   "cell_type": "code",
   "execution_count": 4,
   "metadata": {},
   "outputs": [],
   "source": [
    "X_train = (X_train.reshape((-1, 28*28))/255).to(device)\n",
    "y_train = y_train.to(device)\n",
    "\n",
    "X_test = (X_test.reshape((-1, 28*28))/255).to(device)\n",
    "y_test = y_test.to(device)"
   ]
  },
  {
   "cell_type": "code",
   "execution_count": 5,
   "metadata": {},
   "outputs": [
    {
     "data": {
      "image/png": "[encoded data removed]",
      "text/plain": [
       "<Figure size 640x480 with 1 Axes>"
      ]
     },
     "metadata": {},
     "output_type": "display_data"
    }
   ],
   "source": [
    "def show(i: int):\n",
    "    plt.imshow(X_train[i].cpu().reshape((28, 28)))\n",
    "show(5)"
   ]
  },
  {
   "cell_type": "code",
   "execution_count": 6,
   "metadata": {},
   "outputs": [],
   "source": [
    "class MNIST(nn.Module):\n",
    "  def __init__(self, dim=784, n_hidden=20):\n",
    "    super().__init__()\n",
    "    self.L1 = nn.Linear(dim, n_hidden).to(device)\n",
    "    self.L2 = nn.Linear(n_hidden, 10).to(device)\n",
    "\n",
    "  def forward(self, X, y=None):\n",
    "    x = self.L2(torch.relu(self.L1(X)))\n",
    "    logits = torch.softmax(x, dim=1)\n",
    "\n",
    "    loss = None\n",
    "    if y is not None:\n",
    "      loss = F.cross_entropy(logits, y)\n",
    "    return loss, logits\n",
    "\n",
    "  def generate(self, X):\n",
    "    loss, logits = self(X)\n",
    "    return logits"
   ]
  },
  {
   "cell_type": "code",
   "execution_count": 15,
   "metadata": {},
   "outputs": [
    {
     "data": {
      "text/plain": [
       "(tensor(2.3030, device='cuda:0', grad_fn=<NllLossBackward0>),\n",
       " tensor([[0.1064, 0.0942, 0.1238,  ..., 0.0755, 0.0942, 0.0985],\n",
       "         [0.0863, 0.0929, 0.1173,  ..., 0.0815, 0.1052, 0.1068],\n",
       "         [0.0967, 0.0996, 0.1169,  ..., 0.0860, 0.1024, 0.0970],\n",
       "         ...,\n",
       "         [0.0954, 0.0899, 0.1262,  ..., 0.0787, 0.1003, 0.1043],\n",
       "         [0.0880, 0.0927, 0.1199,  ..., 0.0791, 0.1055, 0.1075],\n",
       "         [0.0935, 0.0959, 0.1238,  ..., 0.0807, 0.1086, 0.1123]],\n",
       "        device='cuda:0', grad_fn=<SoftmaxBackward0>))"
      ]
     },
     "execution_count": 15,
     "metadata": {},
     "output_type": "execute_result"
    }
   ],
   "source": [
    "n_samples, n_features =  X_train.shape\n",
    "m = MNIST(n_features, n_hidden).to(device)\n",
    "m(X_train, y_train)"
   ]
  },
  {
   "cell_type": "code",
   "execution_count": 16,
   "metadata": {},
   "outputs": [
    {
     "name": "stdout",
     "output_type": "stream",
     "text": [
      "2.3030266761779785\n",
      "1.9601699113845825\n",
      "1.95947265625\n",
      "1.5771960020065308\n",
      "1.4771779775619507\n"
     ]
    }
   ],
   "source": [
    "optimizer = torch.optim.AdamW(m.parameters(), lr)\n",
    "\n",
    "losses = []\n",
    "for iter in range(n_iters):\n",
    "  loss, logits = m(X_train, y_train)\n",
    "  losses.append(loss.item())\n",
    "\n",
    "  if iter % 200 == 0:\n",
    "    print(loss.item())\n",
    "\n",
    "  optimizer.zero_grad(set_to_none=True)\n",
    "  loss.backward()\n",
    "  optimizer.step()"
   ]
  },
  {
   "cell_type": "code",
   "execution_count": 19,
   "metadata": {},
   "outputs": [
    {
     "data": {
      "text/plain": [
       "[<matplotlib.lines.Line2D at 0x1da37754910>]"
      ]
     },
     "execution_count": 19,
     "metadata": {},
     "output_type": "execute_result"
    },
    {
     "data": {
      "image/png": "[encoded data removed]",
      "text/plain": [
       "<Figure size 640x480 with 1 Axes>"
      ]
     },
     "metadata": {},
     "output_type": "display_data"
    }
   ],
   "source": [
    "plt.plot(range(n_iters), losses)"
   ]
  },
  {
   "cell_type": "code",
   "execution_count": 18,
   "metadata": {},
   "outputs": [
    {
     "name": "stderr",
     "output_type": "stream",
     "text": [
      "100%|██████████| 10000/10000 [00:04<00:00, 2378.50it/s]"
     ]
    },
    {
     "name": "stdout",
     "output_type": "stream",
     "text": [
      "0.9646\n"
     ]
    },
    {
     "name": "stderr",
     "output_type": "stream",
     "text": [
      "\n"
     ]
    }
   ],
   "source": [
    "acc = 0\n",
    "for i, x in enumerate(tqdm(X_test)):\n",
    "  loss, logits = m(x.unsqueeze(0))\n",
    "  if torch.argmax(logits) == y_test[i]:\n",
    "    acc += 1\n",
    "\n",
    "print(acc/len(X_test))"
   ]
  },
  {
   "cell_type": "markdown",
   "metadata": {},
   "source": [
    "## Points\n",
    "\n",
    "accuracy was stuck around 30% when n_hidden = 20, increaing nn_hidden increased accuracy to 96%"
   ]
  }
 ],
 "metadata": {
  "kernelspec": {
   "display_name": "Python 3",
   "language": "python",
   "name": "python3"
  },
  "language_info": {
   "codemirror_mode": {
    "name": "ipython",
    "version": 3
   },
   "file_extension": ".py",
   "mimetype": "text/x-python",
   "name": "python",
   "nbconvert_exporter": "python",
   "pygments_lexer": "ipython3",
   "version": "3.11.5"
  }
 },
 "nbformat": 4,
 "nbformat_minor": 2
}
