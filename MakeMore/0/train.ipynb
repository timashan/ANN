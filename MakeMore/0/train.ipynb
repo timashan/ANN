{
 "cells": [
  {
   "cell_type": "code",
   "execution_count": 1,
   "metadata": {},
   "outputs": [],
   "source": [
    "import pandas as pd\n",
    "import matplotlib.pyplot as plt \n",
    "\n",
    "import torch\n",
    "import torch.nn.functional as F\n",
    "\n",
    "%matplotlib inline\n",
    "pd.set_option('display.max_columns', None)\n",
    "\n",
    "from model0 import BiGram as BiGram0\n",
    "from model1 import BiGram as BiGram1"
   ]
  },
  {
   "cell_type": "markdown",
   "metadata": {},
   "source": [
    "## BiGram 0\n"
   ]
  },
  {
   "cell_type": "code",
   "execution_count": 2,
   "metadata": {},
   "outputs": [
    {
     "data": {
      "text/plain": [
       "['emma', 'olivia', 'ava', 'isabella', 'sophia']"
      ]
     },
     "execution_count": 2,
     "metadata": {},
     "output_type": "execute_result"
    }
   ],
   "source": [
    "words = open(\"../../data/names.txt\", \"r\").read().splitlines()\n",
    "words[:5]"
   ]
  },
  {
   "cell_type": "code",
   "execution_count": 3,
   "metadata": {},
   "outputs": [
    {
     "data": {
      "text/plain": [
       "tensor(2.5139)"
      ]
     },
     "execution_count": 3,
     "metadata": {},
     "output_type": "execute_result"
    }
   ],
   "source": [
    "m = BiGram0()\n",
    "m.train(words)"
   ]
  },
  {
   "cell_type": "code",
   "execution_count": 4,
   "metadata": {},
   "outputs": [
    {
     "data": {
      "text/plain": [
       "['mahte.',\n",
       " 'd.',\n",
       " 'h.',\n",
       " 'n.',\n",
       " 'arccumobr.',\n",
       " 'has.',\n",
       " 'suj.',\n",
       " 'delenas.',\n",
       " 'ah.',\n",
       " 'marothron.']"
      ]
     },
     "execution_count": 4,
     "metadata": {},
     "output_type": "execute_result"
    }
   ],
   "source": [
    "m.generate(10)"
   ]
  },
  {
   "cell_type": "markdown",
   "metadata": {},
   "source": [
    "## BiGram 1\n"
   ]
  },
  {
   "cell_type": "code",
   "execution_count": 5,
   "metadata": {},
   "outputs": [
    {
     "data": {
      "text/plain": [
       "(torch.Size([228146, 27]), torch.Size([228146]))"
      ]
     },
     "execution_count": 5,
     "metadata": {},
     "output_type": "execute_result"
    }
   ],
   "source": [
    "chars = sorted(set(\"\".join(words)))\n",
    "stoi = {s: i + 1 for i, s in enumerate(chars)}\n",
    "stoi[\".\"] = 0\n",
    "itos = {i: s for s, i in stoi.items()}\n",
    "\n",
    "\n",
    "def preprocess(words: list[str], n_vocab=27):\n",
    "    xs, ys = [], []\n",
    "\n",
    "    for w in words[:]:\n",
    "        chs = [\".\"] + list(w) + [\".\"]\n",
    "        for c1, c2 in zip(chs, chs[1:]):\n",
    "            ix1 = stoi[c1]\n",
    "            ix2 = stoi[c2]\n",
    "            xs.append(ix1)\n",
    "            ys.append(ix2)\n",
    "\n",
    "    xs = torch.tensor(xs)\n",
    "    ys = torch.tensor(ys)\n",
    "\n",
    "    xenc = F.one_hot(xs, num_classes=n_vocab).float()\n",
    "    return xenc, ys\n",
    "\n",
    "\n",
    "xenc, ys = preprocess(words)\n",
    "xenc.shape, ys.shape"
   ]
  },
  {
   "cell_type": "code",
   "execution_count": 6,
   "metadata": {},
   "outputs": [],
   "source": [
    "def generate(n=10):\n",
    "    for _ in range(n):\n",
    "        out = []\n",
    "        ix = 0\n",
    "        while True:\n",
    "            xenc = F.one_hot(torch.tensor([ix]), num_classes=27).float()\n",
    "            p = m.forward(xenc)\n",
    "            ix = torch.multinomial(p, num_samples=1, replacement=True).item()\n",
    "            out.append(itos[ix])\n",
    "            if ix == 0:\n",
    "                break\n",
    "        print(\"\".join(out))"
   ]
  },
  {
   "cell_type": "code",
   "execution_count": 13,
   "metadata": {},
   "outputs": [],
   "source": [
    "n_samples = len(xenc)\n",
    "m = BiGram1()\n",
    "losses = []"
   ]
  },
  {
   "cell_type": "code",
   "execution_count": 14,
   "metadata": {},
   "outputs": [
    {
     "name": "stdout",
     "output_type": "stream",
     "text": [
      "kldjvpv.\n",
      "kznkf.\n",
      "jxxrpnnrzd.\n"
     ]
    }
   ],
   "source": [
    "generate(3)"
   ]
  },
  {
   "cell_type": "code",
   "execution_count": 15,
   "metadata": {},
   "outputs": [],
   "source": [
    "n_iters = 200\n",
    "lr = 50\n",
    "λ = 0.01"
   ]
  },
  {
   "cell_type": "code",
   "execution_count": 16,
   "metadata": {},
   "outputs": [
    {
     "name": "stdout",
     "output_type": "stream",
     "text": [
      "3.744225025177002\n",
      "2.490281581878662\n",
      "2.4830780029296875\n"
     ]
    }
   ],
   "source": [
    "for k in range(n_iters):\n",
    "    probs = m.forward(xenc)\n",
    "    loss = -probs[torch.arange(n_samples), ys].log().mean() + λ * (m.W**2).mean()\n",
    "    losses.append(loss.item())\n",
    "    if k % 100 == 0:\n",
    "        print(loss.item())\n",
    "    m.W.grad = None\n",
    "\n",
    "    loss.backward()\n",
    "    m.W.data += -lr * m.W.grad\n",
    "print(loss.item())"
   ]
  },
  {
   "cell_type": "code",
   "execution_count": 17,
   "metadata": {},
   "outputs": [
    {
     "data": {
      "text/plain": [
       "[<matplotlib.lines.Line2D at 0x21d32fc8050>]"
      ]
     },
     "execution_count": 17,
     "metadata": {},
     "output_type": "execute_result"
    },
    {
     "data": {
      "image/png": "[encoded data removed]",
      "text/plain": [
       "<Figure size 640x480 with 1 Axes>"
      ]
     },
     "metadata": {},
     "output_type": "display_data"
    }
   ],
   "source": [
    "plt.plot(range(len(losses)), losses)"
   ]
  },
  {
   "cell_type": "code",
   "execution_count": 25,
   "metadata": {},
   "outputs": [
    {
     "name": "stdout",
     "output_type": "stream",
     "text": [
      "jan.\n",
      "zabreyamca.\n",
      "kariahyoslneelin.\n",
      "jed.\n",
      "aenomama.\n",
      "tee.\n",
      "m.\n",
      "briv.\n",
      "kerri.\n",
      "ce.\n"
     ]
    }
   ],
   "source": [
    "generate()"
   ]
  }
 ],
 "metadata": {
  "kernelspec": {
   "display_name": "Python 3",
   "language": "python",
   "name": "python3"
  },
  "language_info": {
   "codemirror_mode": {
    "name": "ipython",
    "version": 3
   },
   "file_extension": ".py",
   "mimetype": "text/x-python",
   "name": "python",
   "nbconvert_exporter": "python",
   "pygments_lexer": "ipython3",
   "version": "3.11.5"
  }
 },
 "nbformat": 4,
 "nbformat_minor": 2
}
