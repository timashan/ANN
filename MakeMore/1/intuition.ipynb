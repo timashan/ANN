{
 "cells": [
  {
   "cell_type": "markdown",
   "id": "4a152b46",
   "metadata": {},
   "source": [
    "[A Neural Probabilistic Language Model](https://www.jmlr.org/papers/volume3/bengio03a/bengio03a.pdf)\n",
    "\n",
    "[pytorch-internals](http://blog.ezyang.com/2019/05/pytorch-internals/)\n"
   ]
  },
  {
   "cell_type": "code",
   "execution_count": 1,
   "id": "54b35327",
   "metadata": {},
   "outputs": [],
   "source": [
    "import pandas as pd\n",
    "import matplotlib.pyplot as plt \n",
    "\n",
    "import torch\n",
    "import torch.nn.functional as F\n",
    "\n",
    "%matplotlib inline\n",
    "pd.set_option('display.max_columns', None)"
   ]
  },
  {
   "cell_type": "code",
   "execution_count": 3,
   "id": "5187d96f",
   "metadata": {},
   "outputs": [
    {
     "data": {
      "text/plain": [
       "(['emma', 'olivia', 'ava', 'isabella', 'sophia'], 32033)"
      ]
     },
     "execution_count": 3,
     "metadata": {},
     "output_type": "execute_result"
    }
   ],
   "source": [
    "words = open(\"../../data/names.txt\", \"r\").read().splitlines()\n",
    "\n",
    "words[:5], len(words)"
   ]
  },
  {
   "cell_type": "code",
   "execution_count": 4,
   "id": "b060fe81",
   "metadata": {},
   "outputs": [],
   "source": [
    "chars = sorted(list(set(\"\".join(words))))\n",
    "stoi = {s: i + 1 for i, s in enumerate(chars)}\n",
    "stoi[\".\"] = 0\n",
    "itos = {i: s for s, i in stoi.items()}"
   ]
  },
  {
   "cell_type": "code",
   "execution_count": 6,
   "id": "a14acf04",
   "metadata": {
    "scrolled": true
   },
   "outputs": [
    {
     "name": "stdout",
     "output_type": "stream",
     "text": [
      "emma\n",
      "['.', '.', '.'] --> e\n",
      "['.', '.', 'e'] --> m\n",
      "['.', 'e', 'm'] --> m\n",
      "['e', 'm', 'm'] --> a\n",
      "['m', 'm', 'a'] --> .\n",
      "olivia\n",
      "['.', '.', '.'] --> o\n",
      "['.', '.', 'o'] --> l\n",
      "['.', 'o', 'l'] --> i\n",
      "['o', 'l', 'i'] --> v\n",
      "['l', 'i', 'v'] --> i\n",
      "['i', 'v', 'i'] --> a\n",
      "['v', 'i', 'a'] --> .\n"
     ]
    }
   ],
   "source": [
    "block_size = 3\n",
    "X, Y = [], []\n",
    "\n",
    "for w in words[:2]:\n",
    "    print(w)\n",
    "    context = [0] * 3\n",
    "    for c in w + \".\":\n",
    "        ix = stoi[c]\n",
    "        X.append(context)\n",
    "        Y.append(ix)\n",
    "        print([itos[c] for c in context], \"-->\", itos[ix])\n",
    "        context = context[1:] + [ix]\n",
    "\n",
    "X = torch.tensor(X)\n",
    "Y = torch.tensor(Y)"
   ]
  },
  {
   "cell_type": "code",
   "execution_count": 7,
   "id": "ba8dcecd",
   "metadata": {},
   "outputs": [
    {
     "data": {
      "text/plain": [
       "torch.Size([12, 3])"
      ]
     },
     "execution_count": 7,
     "metadata": {},
     "output_type": "execute_result"
    }
   ],
   "source": [
    "X.shape"
   ]
  },
  {
   "cell_type": "markdown",
   "id": "927ced41",
   "metadata": {},
   "source": [
    "### Embedding C lookup table\n",
    "\n",
    "27 possible chars in 2 dim space\n"
   ]
  },
  {
   "cell_type": "code",
   "execution_count": 11,
   "id": "85c5d30b",
   "metadata": {},
   "outputs": [],
   "source": [
    "C = torch.randn(27, 2)"
   ]
  },
  {
   "cell_type": "code",
   "execution_count": 12,
   "id": "1b1816d9",
   "metadata": {},
   "outputs": [
    {
     "data": {
      "text/plain": [
       "tensor([-1.9639,  0.6679])"
      ]
     },
     "execution_count": 12,
     "metadata": {},
     "output_type": "execute_result"
    }
   ],
   "source": [
    "C[5]"
   ]
  },
  {
   "cell_type": "code",
   "execution_count": 13,
   "id": "3c14abfc",
   "metadata": {},
   "outputs": [
    {
     "data": {
      "text/plain": [
       "tensor([-1.9639,  0.6679])"
      ]
     },
     "execution_count": 13,
     "metadata": {},
     "output_type": "execute_result"
    }
   ],
   "source": [
    "F.one_hot(torch.tensor(5), num_classes=27).float() @ C"
   ]
  },
  {
   "cell_type": "code",
   "execution_count": 14,
   "id": "0795bd88",
   "metadata": {
    "scrolled": true
   },
   "outputs": [
    {
     "data": {
      "text/plain": [
       "tensor([[-1.9639,  0.6679],\n",
       "        [ 1.2873,  0.2881],\n",
       "        [ 0.0747,  0.7510],\n",
       "        [ 0.0747,  0.7510]])"
      ]
     },
     "execution_count": 14,
     "metadata": {},
     "output_type": "execute_result"
    }
   ],
   "source": [
    "C[[5, 6, 7, 7]]"
   ]
  },
  {
   "cell_type": "code",
   "execution_count": 15,
   "id": "99f8fa84",
   "metadata": {
    "scrolled": true
   },
   "outputs": [
    {
     "data": {
      "text/plain": [
       "tensor(13)"
      ]
     },
     "execution_count": 15,
     "metadata": {},
     "output_type": "execute_result"
    }
   ],
   "source": [
    "X[4, 1]"
   ]
  },
  {
   "cell_type": "code",
   "execution_count": 16,
   "id": "fc90a827",
   "metadata": {},
   "outputs": [
    {
     "data": {
      "text/plain": [
       "torch.Size([12, 3, 2])"
      ]
     },
     "execution_count": 16,
     "metadata": {},
     "output_type": "execute_result"
    }
   ],
   "source": [
    "C[X].shape"
   ]
  },
  {
   "cell_type": "code",
   "execution_count": 13,
   "id": "354b4179",
   "metadata": {},
   "outputs": [
    {
     "data": {
      "text/plain": [
       "tensor([-0.6996,  0.8613])"
      ]
     },
     "execution_count": 13,
     "metadata": {},
     "output_type": "execute_result"
    }
   ],
   "source": [
    "C[X][4, 1]"
   ]
  },
  {
   "cell_type": "code",
   "execution_count": 14,
   "id": "f6feb56c",
   "metadata": {
    "scrolled": true
   },
   "outputs": [
    {
     "data": {
      "text/plain": [
       "tensor([-0.6996,  0.8613])"
      ]
     },
     "execution_count": 14,
     "metadata": {},
     "output_type": "execute_result"
    }
   ],
   "source": [
    "C[13]"
   ]
  },
  {
   "cell_type": "markdown",
   "id": "32f28710",
   "metadata": {},
   "source": [
    "---\n"
   ]
  },
  {
   "cell_type": "code",
   "execution_count": 15,
   "id": "8037bcf8",
   "metadata": {},
   "outputs": [
    {
     "data": {
      "text/plain": [
       "tensor([[-0.6996,  0.8613],\n",
       "        [-0.6996,  0.8613],\n",
       "        [ 0.5887, -0.5127]])"
      ]
     },
     "execution_count": 15,
     "metadata": {},
     "output_type": "execute_result"
    }
   ],
   "source": [
    "C[X][4]"
   ]
  },
  {
   "cell_type": "code",
   "execution_count": 16,
   "id": "9ba01f26",
   "metadata": {},
   "outputs": [
    {
     "data": {
      "text/plain": [
       "tensor([13, 13,  1])"
      ]
     },
     "execution_count": 16,
     "metadata": {},
     "output_type": "execute_result"
    }
   ],
   "source": [
    "X[4]"
   ]
  },
  {
   "cell_type": "code",
   "execution_count": 17,
   "id": "57ab1975",
   "metadata": {},
   "outputs": [
    {
     "data": {
      "text/plain": [
       "tensor([ 0.5887, -0.5127])"
      ]
     },
     "execution_count": 17,
     "metadata": {},
     "output_type": "execute_result"
    }
   ],
   "source": [
    "C[1]"
   ]
  },
  {
   "cell_type": "code",
   "execution_count": 18,
   "id": "a91a5cfe",
   "metadata": {},
   "outputs": [
    {
     "data": {
      "text/plain": [
       "tensor([-0.6996,  0.8613])"
      ]
     },
     "execution_count": 18,
     "metadata": {},
     "output_type": "execute_result"
    }
   ],
   "source": [
    "C[13]"
   ]
  },
  {
   "cell_type": "code",
   "execution_count": 19,
   "id": "0ef8d653",
   "metadata": {},
   "outputs": [
    {
     "data": {
      "text/plain": [
       "torch.Size([12, 3, 2])"
      ]
     },
     "execution_count": 19,
     "metadata": {},
     "output_type": "execute_result"
    }
   ],
   "source": [
    "emb = C[X]\n",
    "emb.shape"
   ]
  },
  {
   "cell_type": "code",
   "execution_count": 20,
   "id": "950a6ddf",
   "metadata": {},
   "outputs": [],
   "source": [
    "W1 = torch.randn(6, 100)\n",
    "b1 = torch.randn(100)"
   ]
  },
  {
   "cell_type": "code",
   "execution_count": 21,
   "id": "06b72f62",
   "metadata": {},
   "outputs": [],
   "source": [
    "# emb @ W1 + b # won't work [32, 3, 2] * [6 * 100]"
   ]
  },
  {
   "cell_type": "code",
   "execution_count": 22,
   "id": "6cb8df89",
   "metadata": {},
   "outputs": [
    {
     "data": {
      "text/plain": [
       "torch.Size([12, 2])"
      ]
     },
     "execution_count": 22,
     "metadata": {},
     "output_type": "execute_result"
    }
   ],
   "source": [
    "emb[:, 0, :].shape"
   ]
  },
  {
   "cell_type": "code",
   "execution_count": 23,
   "id": "c5c07a3f",
   "metadata": {},
   "outputs": [
    {
     "data": {
      "text/plain": [
       "torch.Size([12, 6])"
      ]
     },
     "execution_count": 23,
     "metadata": {},
     "output_type": "execute_result"
    }
   ],
   "source": [
    "torch.cat([emb[:, 0, :], emb[:, 1, :], emb[:, 2, :]], 1).shape"
   ]
  },
  {
   "cell_type": "code",
   "execution_count": 24,
   "id": "4ef8297a",
   "metadata": {},
   "outputs": [
    {
     "data": {
      "text/plain": [
       "3"
      ]
     },
     "execution_count": 24,
     "metadata": {},
     "output_type": "execute_result"
    }
   ],
   "source": [
    "len(torch.unbind(emb, 1))"
   ]
  },
  {
   "cell_type": "code",
   "execution_count": 25,
   "id": "6d2e89cb",
   "metadata": {},
   "outputs": [
    {
     "data": {
      "text/plain": [
       "torch.Size([12, 6])"
      ]
     },
     "execution_count": 25,
     "metadata": {},
     "output_type": "execute_result"
    }
   ],
   "source": [
    "torch.cat(torch.unbind(emb, 1), 1).shape"
   ]
  },
  {
   "cell_type": "code",
   "execution_count": 26,
   "id": "70bb0fae",
   "metadata": {},
   "outputs": [
    {
     "name": "stderr",
     "output_type": "stream",
     "text": [
      "C:\\Users\\kavis\\AppData\\Local\\Temp\\ipykernel_20404\\3440461275.py:1: UserWarning: TypedStorage is deprecated. It will be removed in the future and UntypedStorage will be the only storage class. This should only matter to you if you are using storages directly.  To access UntypedStorage directly, use tensor.untyped_storage() instead of tensor.storage()\n",
      "  torch.arange(5).storage()\n"
     ]
    },
    {
     "data": {
      "text/plain": [
       " 0\n",
       " 1\n",
       " 2\n",
       " 3\n",
       " 4\n",
       "[torch.storage.TypedStorage(dtype=torch.int64, device=cpu) of size 5]"
      ]
     },
     "execution_count": 26,
     "metadata": {},
     "output_type": "execute_result"
    }
   ],
   "source": [
    "torch.arange(5).storage()"
   ]
  },
  {
   "cell_type": "code",
   "execution_count": 27,
   "id": "1f54e587",
   "metadata": {},
   "outputs": [
    {
     "data": {
      "text/plain": [
       "tensor([[ 0.5953, -1.2872,  0.5953, -1.2872,  0.5953, -1.2872],\n",
       "        [ 0.5953, -1.2872,  0.5953, -1.2872, -2.2058,  0.2553],\n",
       "        [ 0.5953, -1.2872, -2.2058,  0.2553, -0.6996,  0.8613],\n",
       "        [-2.2058,  0.2553, -0.6996,  0.8613, -0.6996,  0.8613],\n",
       "        [-0.6996,  0.8613, -0.6996,  0.8613,  0.5887, -0.5127],\n",
       "        [ 0.5953, -1.2872,  0.5953, -1.2872,  0.5953, -1.2872],\n",
       "        [ 0.5953, -1.2872,  0.5953, -1.2872, -0.7440, -2.3250],\n",
       "        [ 0.5953, -1.2872, -0.7440, -2.3250, -0.9170, -1.2680],\n",
       "        [-0.7440, -2.3250, -0.9170, -1.2680,  1.1061, -1.7982],\n",
       "        [-0.9170, -1.2680,  1.1061, -1.7982, -1.4039,  1.4524],\n",
       "        [ 1.1061, -1.7982, -1.4039,  1.4524,  1.1061, -1.7982],\n",
       "        [-1.4039,  1.4524,  1.1061, -1.7982,  0.5887, -0.5127]])"
      ]
     },
     "execution_count": 27,
     "metadata": {},
     "output_type": "execute_result"
    }
   ],
   "source": [
    "emb.view(12, 6)"
   ]
  },
  {
   "cell_type": "code",
   "execution_count": 28,
   "id": "f7ee4f4a",
   "metadata": {},
   "outputs": [
    {
     "data": {
      "text/plain": [
       "torch.Size([12, 6])"
      ]
     },
     "execution_count": 28,
     "metadata": {},
     "output_type": "execute_result"
    }
   ],
   "source": [
    "emb.view(12, 6).shape"
   ]
  },
  {
   "cell_type": "markdown",
   "id": "5a7f8267",
   "metadata": {},
   "source": [
    "### Hidden Layer\n",
    "\n",
    "[12, 6] \\* [6, 100] = [12, 100]\n",
    "\n",
    "-1 in view means infer (12)\n"
   ]
  },
  {
   "cell_type": "code",
   "execution_count": 29,
   "id": "c438a2f9",
   "metadata": {},
   "outputs": [
    {
     "data": {
      "text/plain": [
       "torch.Size([12, 100])"
      ]
     },
     "execution_count": 29,
     "metadata": {},
     "output_type": "execute_result"
    }
   ],
   "source": [
    "h = emb.view(-1, 6) @ W1 + b1\n",
    "h.shape"
   ]
  },
  {
   "cell_type": "code",
   "execution_count": 30,
   "id": "cbbee04c",
   "metadata": {},
   "outputs": [
    {
     "data": {
      "text/plain": [
       "torch.Size([12, 100])"
      ]
     },
     "execution_count": 30,
     "metadata": {},
     "output_type": "execute_result"
    }
   ],
   "source": [
    "# between 0 & 1\n",
    "h = torch.tanh(emb.view(-1, 6) @ W1 + b1)\n",
    "h.shape"
   ]
  },
  {
   "cell_type": "markdown",
   "id": "ddf1878c",
   "metadata": {},
   "source": [
    "### Final Layer\n",
    "\n",
    "[12 100] \\* [100 27] = [12, 27]\n"
   ]
  },
  {
   "cell_type": "code",
   "execution_count": 31,
   "id": "ed3b45f2",
   "metadata": {},
   "outputs": [],
   "source": [
    "W2 = torch.randn(100, 27)\n",
    "b2 = torch.randn(27)"
   ]
  },
  {
   "cell_type": "code",
   "execution_count": 32,
   "id": "8d4dc574",
   "metadata": {},
   "outputs": [
    {
     "data": {
      "text/plain": [
       "torch.Size([12, 27])"
      ]
     },
     "execution_count": 32,
     "metadata": {},
     "output_type": "execute_result"
    }
   ],
   "source": [
    "logits = h @ W2 + b2\n",
    "logits.shape"
   ]
  },
  {
   "cell_type": "code",
   "execution_count": 33,
   "id": "852a67a1",
   "metadata": {},
   "outputs": [],
   "source": [
    "counts = logits.exp()\n",
    "prob = counts / counts.sum(1, keepdims=True)"
   ]
  },
  {
   "cell_type": "code",
   "execution_count": 34,
   "id": "a30f0e3b",
   "metadata": {},
   "outputs": [
    {
     "data": {
      "text/plain": [
       "tensor(1.)"
      ]
     },
     "execution_count": 34,
     "metadata": {},
     "output_type": "execute_result"
    }
   ],
   "source": [
    "prob[0].sum()"
   ]
  },
  {
   "cell_type": "code",
   "execution_count": 35,
   "id": "701ea1d2",
   "metadata": {},
   "outputs": [
    {
     "data": {
      "text/plain": [
       "tensor([ 5, 13, 13,  1,  0, 15, 12,  9, 22,  9,  1,  0])"
      ]
     },
     "execution_count": 35,
     "metadata": {},
     "output_type": "execute_result"
    }
   ],
   "source": [
    "Y"
   ]
  },
  {
   "cell_type": "code",
   "execution_count": 36,
   "id": "650c5762",
   "metadata": {},
   "outputs": [
    {
     "data": {
      "text/plain": [
       "tensor([4.6439e-08, 4.9771e-10, 4.8357e-08, 1.1818e-01, 3.4079e-13, 1.4759e-10,\n",
       "        6.4308e-08, 1.8508e-06, 8.8823e-06, 1.0907e-05, 1.8415e-07, 5.0378e-03])"
      ]
     },
     "execution_count": 36,
     "metadata": {},
     "output_type": "execute_result"
    }
   ],
   "source": [
    "prob[torch.arange(12), Y]"
   ]
  },
  {
   "cell_type": "markdown",
   "id": "440d12ef",
   "metadata": {},
   "source": [
    "### loss\n"
   ]
  },
  {
   "cell_type": "code",
   "execution_count": 37,
   "id": "8bd3ae64",
   "metadata": {},
   "outputs": [
    {
     "data": {
      "text/plain": [
       "tensor(15.1871)"
      ]
     },
     "execution_count": 37,
     "metadata": {},
     "output_type": "execute_result"
    }
   ],
   "source": [
    "loss = -prob[torch.arange(12), Y].log().mean()\n",
    "loss"
   ]
  },
  {
   "cell_type": "code",
   "execution_count": 38,
   "id": "3c5d4aee",
   "metadata": {},
   "outputs": [
    {
     "data": {
      "text/plain": [
       "tensor(15.1871)"
      ]
     },
     "execution_count": 38,
     "metadata": {},
     "output_type": "execute_result"
    }
   ],
   "source": [
    "F.cross_entropy(logits, Y)"
   ]
  },
  {
   "cell_type": "markdown",
   "id": "5f645c30",
   "metadata": {},
   "source": [
    "##### Why F.cross_entropy is better?\n",
    "\n",
    "1. efficiently calculates cross_entropy for fwrd, bwrd pass\n"
   ]
  },
  {
   "cell_type": "code",
   "execution_count": 39,
   "id": "ce6fdc52",
   "metadata": {},
   "outputs": [
    {
     "data": {
      "text/plain": [
       "tensor([2.7183, 7.3891,    inf])"
      ]
     },
     "execution_count": 39,
     "metadata": {},
     "output_type": "execute_result"
    }
   ],
   "source": [
    "torch.tensor([1, 2, 100]).exp()"
   ]
  },
  {
   "cell_type": "code",
   "execution_count": 40,
   "id": "970bebff",
   "metadata": {},
   "outputs": [
    {
     "data": {
      "text/plain": [
       "tensor([1.0089e-43, 2.7465e-43, 1.0000e+00])"
      ]
     },
     "execution_count": 40,
     "metadata": {},
     "output_type": "execute_result"
    }
   ],
   "source": [
    "(torch.tensor([1, 2, 100]) - 100).exp()"
   ]
  },
  {
   "cell_type": "markdown",
   "id": "5bfc0fd4",
   "metadata": {},
   "source": [
    "### Respectable\n"
   ]
  },
  {
   "cell_type": "code",
   "execution_count": 41,
   "id": "cd68ba75",
   "metadata": {},
   "outputs": [],
   "source": [
    "g = torch.Generator().manual_seed(2147483647)\n",
    "C = torch.randn(27, 2)\n",
    "W1 = torch.randn(6, 100)\n",
    "b1 = torch.randn(100)\n",
    "W2 = torch.randn(100, 27)\n",
    "b2 = torch.randn(27)\n",
    "parameters = [C, W1, b1, W2, b2]"
   ]
  },
  {
   "cell_type": "code",
   "execution_count": 42,
   "id": "d3675b00",
   "metadata": {},
   "outputs": [
    {
     "data": {
      "text/plain": [
       "3481"
      ]
     },
     "execution_count": 42,
     "metadata": {},
     "output_type": "execute_result"
    }
   ],
   "source": [
    "sum([p.nelement() for p in parameters])"
   ]
  },
  {
   "cell_type": "code",
   "execution_count": 43,
   "id": "ea57ceab",
   "metadata": {},
   "outputs": [],
   "source": [
    "for p in parameters:\n",
    "    p.requires_grad = True"
   ]
  },
  {
   "cell_type": "markdown",
   "id": "85c45bb3",
   "metadata": {},
   "source": [
    "[...] can be many values, therefore loss wont overfit to be 0\n"
   ]
  },
  {
   "cell_type": "code",
   "execution_count": 44,
   "id": "3d3a453b",
   "metadata": {},
   "outputs": [
    {
     "name": "stdout",
     "output_type": "stream",
     "text": [
      "17.68153953552246\n",
      "13.330147743225098\n",
      "10.072994232177734\n",
      "7.930679798126221\n",
      "6.375665664672852\n",
      "5.144957065582275\n",
      "4.106070041656494\n",
      "3.1789493560791016\n",
      "2.4108657836914062\n",
      "1.8663972616195679\n"
     ]
    }
   ],
   "source": [
    "for _ in range(10):\n",
    "    # forward pass\n",
    "    emb = C[X]\n",
    "    h = torch.tanh(emb.view(-1, 6) @ W1 + b1)\n",
    "    logits = h @ W2 + b2\n",
    "    loss = F.cross_entropy(logits, Y)\n",
    "    print(loss.item())\n",
    "\n",
    "    # backward pass\n",
    "    for p in parameters:\n",
    "        p.grad = None\n",
    "    loss.backward()\n",
    "\n",
    "    # update\n",
    "    for p in parameters:\n",
    "        p.data += -0.1 * p.grad"
   ]
  },
  {
   "cell_type": "code",
   "execution_count": 45,
   "id": "b1c994ff",
   "metadata": {
    "scrolled": true
   },
   "outputs": [
    {
     "data": {
      "text/plain": [
       "tensor([ 5, 13, 13,  1,  0, 15, 12,  9, 22,  9,  1,  0])"
      ]
     },
     "execution_count": 45,
     "metadata": {},
     "output_type": "execute_result"
    }
   ],
   "source": [
    "Y"
   ]
  },
  {
   "cell_type": "code",
   "execution_count": 46,
   "id": "32578f3f",
   "metadata": {},
   "outputs": [
    {
     "data": {
      "text/plain": [
       "torch.return_types.max(\n",
       "values=tensor([ 7.1389,  4.8175,  7.2210, 12.9024, 18.8147,  7.1389,  5.3278,  6.6342,\n",
       "         3.3612,  4.3872,  6.9367, 12.7887], grad_fn=<MaxBackward0>),\n",
       "indices=tensor([15, 18, 19,  1,  0, 15,  9,  9, 18,  9,  1,  0]))"
      ]
     },
     "execution_count": 46,
     "metadata": {},
     "output_type": "execute_result"
    }
   ],
   "source": [
    "logits.max(1)"
   ]
  },
  {
   "cell_type": "code",
   "execution_count": 47,
   "id": "b6af0653",
   "metadata": {},
   "outputs": [
    {
     "data": {
      "text/plain": [
       "torch.Size([12, 27])"
      ]
     },
     "execution_count": 47,
     "metadata": {},
     "output_type": "execute_result"
    }
   ],
   "source": [
    "logits.shape"
   ]
  },
  {
   "cell_type": "markdown",
   "id": "f1dd55b3",
   "metadata": {},
   "source": [
    "bottleneck: h/tanh h layer is too big, emdedding/C layer is 2 dimensional & we are craming way too many characters into 2 dimensions.\n"
   ]
  }
 ],
 "metadata": {
  "kernelspec": {
   "display_name": "Python 3 (ipykernel)",
   "language": "python",
   "name": "python3"
  },
  "language_info": {
   "codemirror_mode": {
    "name": "ipython",
    "version": 3
   },
   "file_extension": ".py",
   "mimetype": "text/x-python",
   "name": "python",
   "nbconvert_exporter": "python",
   "pygments_lexer": "ipython3",
   "version": "3.11.5"
  }
 },
 "nbformat": 4,
 "nbformat_minor": 5
}
