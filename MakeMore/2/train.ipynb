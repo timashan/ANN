{
 "cells": [
  {
   "cell_type": "code",
   "execution_count": 1,
   "metadata": {},
   "outputs": [],
   "source": [
    "import numpy as np\n",
    "from matplotlib import pyplot as plt\n",
    "\n",
    "import random\n",
    "\n",
    "import torch\n",
    "from torch.nn import functional as F\n",
    "\n",
    "from model import NGram"
   ]
  },
  {
   "cell_type": "markdown",
   "metadata": {},
   "source": [
    "## Load Data\n"
   ]
  },
  {
   "cell_type": "code",
   "execution_count": 3,
   "metadata": {},
   "outputs": [
    {
     "name": "stdout",
     "output_type": "stream",
     "text": [
      "torch.Size([182625, 3]) torch.Size([182625])\n",
      "torch.Size([22655, 3]) torch.Size([22655])\n",
      "torch.Size([22866, 3]) torch.Size([22866])\n"
     ]
    }
   ],
   "source": [
    "words = open(\"../../data/names.txt\", \"r\").read().splitlines()\n",
    "\n",
    "chars = sorted(list(set(\"\".join(words))))\n",
    "stoi = {s: i + 1 for i, s in enumerate(chars)}\n",
    "stoi[\".\"] = 0\n",
    "itos = {i: s for s, i in stoi.items()}\n",
    "\n",
    "block_size = 3\n",
    "X, Y = [], []\n",
    "\n",
    "\n",
    "def build_dataset(words):\n",
    "    X, Y = [], []\n",
    "    for w in words:\n",
    "        context = [0] * block_size\n",
    "        for ch in w + \".\":\n",
    "            ix = stoi[ch]\n",
    "            X.append(context)\n",
    "            Y.append(ix)\n",
    "            # print(''.join(itos[i] for i in context), '--->', itos[ix])\n",
    "            context = context[1:] + [ix]\n",
    "\n",
    "    X = torch.tensor(X)\n",
    "    Y = torch.tensor(Y)\n",
    "    print(X.shape, Y.shape)\n",
    "    return X, Y\n",
    "\n",
    "\n",
    "random.seed(42)\n",
    "random.shuffle(words)\n",
    "n1 = int(0.8 * len(words))\n",
    "n2 = int(0.9 * len(words))\n",
    "\n",
    "Xtr, Ytr = build_dataset(words[:n1])\n",
    "Xdev, Ydev = build_dataset(words[n1:n2])\n",
    "Xte, Yte = build_dataset(words[n2:])"
   ]
  },
  {
   "cell_type": "code",
   "execution_count": 4,
   "metadata": {},
   "outputs": [],
   "source": [
    "def cross_entropy(logits, Y):\n",
    "    logits = (\n",
    "        logits - logits.max(1, keepdim=True).values\n",
    "    )  # so exp doesn't overflow 2 inf\n",
    "    counts = logits.exp()\n",
    "    prob = counts / counts.sum(1, keepdim=True)\n",
    "    loss = -prob[torch.arange(len(logits)), Y].log().mean()\n",
    "    return loss"
   ]
  },
  {
   "cell_type": "markdown",
   "metadata": {},
   "source": [
    "## Train\n"
   ]
  },
  {
   "cell_type": "code",
   "execution_count": 5,
   "metadata": {},
   "outputs": [
    {
     "name": "stdout",
     "output_type": "stream",
     "text": [
      "no.of paramters: 3481\n"
     ]
    }
   ],
   "source": [
    "batch_size = 32\n",
    "n_iters = 100_000\n",
    "lr = 0.1\n",
    "\n",
    "m = NGram()\n",
    "losses = []\n",
    "\n",
    "\n",
    "def train(m, X, Y, n_iters, batch_size):\n",
    "    losses = []\n",
    "    for i in range(n_iters):\n",
    "        # mini-batch\n",
    "        ix = torch.randint(0, len(X), (batch_size,))\n",
    "        logits = m.forward(X[ix])\n",
    "\n",
    "        loss = cross_entropy(logits, Ytr[ix])\n",
    "        losses.append(loss.item())  # mini-batch loss\n",
    "\n",
    "        if i % 20_000 == 0:\n",
    "            print(loss.item())\n",
    "\n",
    "        for p in m.parameters:\n",
    "            p.grad = None\n",
    "\n",
    "        loss.backward()\n",
    "\n",
    "        for p in m.parameters:\n",
    "            p.data += -lr * p.grad\n",
    "    return losses"
   ]
  },
  {
   "cell_type": "code",
   "execution_count": 6,
   "metadata": {},
   "outputs": [
    {
     "name": "stdout",
     "output_type": "stream",
     "text": [
      "3.2827718257904053\n"
     ]
    },
    {
     "data": {
      "text/plain": [
       "[3.2827718257904053]"
      ]
     },
     "execution_count": 6,
     "metadata": {},
     "output_type": "execute_result"
    }
   ],
   "source": [
    "losses += train(m, Xtr, Ytr, 1, batch_size)\n",
    "losses"
   ]
  },
  {
   "cell_type": "code",
   "execution_count": 7,
   "metadata": {},
   "outputs": [
    {
     "name": "stdout",
     "output_type": "stream",
     "text": [
      "3.212768316268921\n",
      "2.161163568496704\n",
      "2.577303886413574\n",
      "2.2613754272460938\n",
      "2.3944506645202637\n"
     ]
    },
    {
     "data": {
      "text/plain": [
       "[<matplotlib.lines.Line2D at 0x189ac1f6090>]"
      ]
     },
     "execution_count": 7,
     "metadata": {},
     "output_type": "execute_result"
    },
    {
     "data": {
      "image/png": "[encoded data removed]",
      "text/plain": [
       "<Figure size 640x480 with 1 Axes>"
      ]
     },
     "metadata": {},
     "output_type": "display_data"
    }
   ],
   "source": [
    "losses += train(m, Xtr, Ytr, n_iters, batch_size)\n",
    "plt.plot(range(len(losses)), np.log(losses))"
   ]
  },
  {
   "cell_type": "code",
   "execution_count": 7,
   "metadata": {},
   "outputs": [],
   "source": [
    "# for i in range(n_iters):\n",
    "#     # mini-batch\n",
    "#     ix = torch.randint(0, len(Xtr), (batch_size,))\n",
    "#     logits = m.forward(Xtr[ix])\n",
    "\n",
    "#     loss = cross_entropy(logits, Ytr[ix])\n",
    "#     losses.append(loss.log10().item())  # mini-batch loss\n",
    "\n",
    "#     if i % 1_000 == 0:\n",
    "#         print(loss.item())\n",
    "\n",
    "#     for p in m.parameters:\n",
    "#         p.grad = None\n",
    "\n",
    "#     loss.backward()\n",
    "\n",
    "#     for p in m.parameters:\n",
    "#         p.data += -lr * p.grad\n",
    "\n",
    "# plt.plot(range(len(losses)), losses)"
   ]
  },
  {
   "cell_type": "markdown",
   "metadata": {},
   "source": [
    "### Total loss\n"
   ]
  },
  {
   "cell_type": "code",
   "execution_count": 8,
   "metadata": {},
   "outputs": [
    {
     "data": {
      "text/plain": [
       "tensor(2.2508, grad_fn=<NegBackward0>)"
      ]
     },
     "execution_count": 8,
     "metadata": {},
     "output_type": "execute_result"
    }
   ],
   "source": [
    "logits = m.forward(Xtr)\n",
    "loss = cross_entropy(logits, Ytr)\n",
    "loss"
   ]
  },
  {
   "cell_type": "code",
   "execution_count": 9,
   "metadata": {},
   "outputs": [
    {
     "data": {
      "text/plain": [
       "tensor(2.2609, grad_fn=<NegBackward0>)"
      ]
     },
     "execution_count": 9,
     "metadata": {},
     "output_type": "execute_result"
    }
   ],
   "source": [
    "logits = m.forward(Xdev)\n",
    "loss = cross_entropy(logits, Ydev)\n",
    "loss"
   ]
  },
  {
   "cell_type": "code",
   "execution_count": 12,
   "metadata": {},
   "outputs": [
    {
     "name": "stdout",
     "output_type": "stream",
     "text": [
      "bruen.\n",
      "zahd.\n",
      "cora.\n",
      "zell.\n",
      "yaston.\n",
      "jaider.\n",
      "anssot.\n",
      "colie.\n",
      "bel.\n",
      "reon.\n"
     ]
    }
   ],
   "source": [
    "def predict(n=10):\n",
    "    for i in range(n):\n",
    "        out = []\n",
    "        context = [0] * 3\n",
    "        while True:\n",
    "            logits = m.forward(context)\n",
    "            probs = F.softmax(logits, 1)\n",
    "            ix = torch.multinomial(probs, num_samples=1).item()\n",
    "            context = context[1:] + [ix]\n",
    "            out.append(itos[ix])\n",
    "            if ix == 0:\n",
    "                break\n",
    "        print(\"\".join(out))\n",
    "\n",
    "\n",
    "predict()"
   ]
  }
 ],
 "metadata": {
  "kernelspec": {
   "display_name": "Python 3",
   "language": "python",
   "name": "python3"
  },
  "language_info": {
   "codemirror_mode": {
    "name": "ipython",
    "version": 3
   },
   "file_extension": ".py",
   "mimetype": "text/x-python",
   "name": "python",
   "nbconvert_exporter": "python",
   "pygments_lexer": "ipython3",
   "version": "3.11.5"
  }
 },
 "nbformat": 4,
 "nbformat_minor": 2
}
