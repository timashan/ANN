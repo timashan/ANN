{
 "cells": [
  {
   "cell_type": "code",
   "execution_count": null,
   "metadata": {},
   "outputs": [],
   "source": [
    "import numpy as np\n",
    "from matplotlib import pyplot as plt\n",
    "\n",
    "import random\n",
    "random.seed(42)\n",
    "\n",
    "import torch\n",
    "from torch.nn import functional as F\n",
    "torch.manual_seed(42)\n",
    "\n",
    "from model import NGram\n",
    "\n",
    "import sys\n",
    "sys.path.insert(0, \"..\")\n",
    "from preprocessing import get_data, load_split_data\n",
    "\n",
    "%matplotlib inline"
   ]
  },
  {
   "cell_type": "markdown",
   "metadata": {},
   "source": [
    "## Load Data\n"
   ]
  },
  {
   "cell_type": "code",
   "execution_count": null,
   "metadata": {},
   "outputs": [
    {
     "name": "stdout",
     "output_type": "stream",
     "text": [
      "torch.Size([182625, 3]) torch.Size([182625])\n",
      "torch.Size([22655, 3]) torch.Size([22655])\n",
      "torch.Size([22866, 3]) torch.Size([22866])\n"
     ]
    }
   ],
   "source": [
    "block_size = 3\n",
    "words, stoi, itos = get_data()\n",
    "Xtr, Ytr, Xdev, Ydev, Xte, Yte = load_split_data(words, stoi, block_size)"
   ]
  },
  {
   "cell_type": "code",
   "execution_count": null,
   "metadata": {},
   "outputs": [],
   "source": [
    "def cross_entropy(logits, Y):\n",
    "    logits = (\n",
    "        logits - logits.max(1, keepdim=True).values\n",
    "    )  # so exp doesn't overflow 2 inf\n",
    "    counts = logits.exp()\n",
    "    prob = counts / counts.sum(1, keepdim=True)\n",
    "    loss = -prob[torch.arange(len(logits)), Y].log().mean()\n",
    "    return loss"
   ]
  },
  {
   "cell_type": "markdown",
   "metadata": {},
   "source": [
    "## Train\n"
   ]
  },
  {
   "cell_type": "code",
   "execution_count": null,
   "metadata": {},
   "outputs": [
    {
     "name": "stdout",
     "output_type": "stream",
     "text": [
      "no.of paramters: 3581\n"
     ]
    }
   ],
   "source": [
    "batch_size = 32\n",
    "n_iters = 100_000\n",
    "lr = 0.1\n",
    "\n",
    "m = NGram()\n",
    "losses = []\n",
    "\n",
    "\n",
    "def train(m, X, Y, n_iters, batch_size):\n",
    "    losses = []\n",
    "    for i in range(n_iters):\n",
    "        # mini-batch\n",
    "        ix = torch.randint(0, len(X), (batch_size,))\n",
    "        logits = m.forward(X[ix])\n",
    "\n",
    "        loss = cross_entropy(logits, Ytr[ix])\n",
    "        losses.append(loss.item())  # mini-batch loss\n",
    "\n",
    "        if i % 20_000 == 0:\n",
    "            print(loss.item())\n",
    "\n",
    "        for p in m.parameters:\n",
    "            p.grad = None\n",
    "\n",
    "        loss.backward()\n",
    "\n",
    "        for p in m.parameters:\n",
    "            p.data += -lr * p.grad\n",
    "    return losses"
   ]
  },
  {
   "cell_type": "code",
   "execution_count": null,
   "metadata": {},
   "outputs": [
    {
     "name": "stdout",
     "output_type": "stream",
     "text": [
      "3.2996068000793457\n"
     ]
    },
    {
     "data": {
      "text/plain": [
       "[3.2996068000793457]"
      ]
     },
     "execution_count": null,
     "metadata": {},
     "output_type": "execute_result"
    }
   ],
   "source": [
    "losses += train(m, Xtr, Ytr, 1, batch_size)\n",
    "losses"
   ]
  },
  {
   "cell_type": "code",
   "execution_count": null,
   "metadata": {},
   "outputs": [
    {
     "name": "stdout",
     "output_type": "stream",
     "text": [
      "3.2668607234954834\n",
      "2.774171829223633\n",
      "2.186072826385498\n",
      "2.3818604946136475\n",
      "2.2348263263702393\n"
     ]
    },
    {
     "data": {
      "text/plain": [
       "[<matplotlib.lines.Line2D at 0x22ca1e05f90>]"
      ]
     },
     "execution_count": null,
     "metadata": {},
     "output_type": "execute_result"
    },
    {
     "data": {
      "image/png": "[encoded data removed]",
      "text/plain": [
       "<Figure size 640x480 with 1 Axes>"
      ]
     },
     "metadata": {},
     "output_type": "display_data"
    }
   ],
   "source": [
    "losses += train(m, Xtr, Ytr, n_iters, batch_size)\n",
    "plt.plot(range(len(losses)), np.log(losses))"
   ]
  },
  {
   "cell_type": "markdown",
   "metadata": {},
   "source": [
    "### Total loss\n"
   ]
  },
  {
   "cell_type": "code",
   "execution_count": null,
   "metadata": {},
   "outputs": [
    {
     "data": {
      "text/plain": [
       "tensor(2.2874, grad_fn=<NegBackward0>)"
      ]
     },
     "execution_count": null,
     "metadata": {},
     "output_type": "execute_result"
    }
   ],
   "source": [
    "logits = m.predict(Xtr)\n",
    "loss = cross_entropy(logits, Ytr)\n",
    "loss"
   ]
  },
  {
   "cell_type": "code",
   "execution_count": null,
   "metadata": {},
   "outputs": [
    {
     "data": {
      "text/plain": [
       "tensor(2.2889, grad_fn=<NegBackward0>)"
      ]
     },
     "execution_count": null,
     "metadata": {},
     "output_type": "execute_result"
    }
   ],
   "source": [
    "logits = m.predict(Xdev)\n",
    "loss = cross_entropy(logits, Ydev)\n",
    "loss"
   ]
  },
  {
   "cell_type": "code",
   "execution_count": null,
   "metadata": {},
   "outputs": [
    {
     "name": "stdout",
     "output_type": "stream",
     "text": [
      "jallohariel.\n",
      "alneazoilynncn.\n",
      "len.\n",
      "keniel.\n",
      "joe.\n",
      "siaj.\n",
      "eponi.\n",
      "iquy.\n",
      "jaeyanthoom.\n",
      "sailyn.\n"
     ]
    }
   ],
   "source": [
    "def predict(n=10):\n",
    "    for i in range(n):\n",
    "        out = []\n",
    "        context = [0] * 3\n",
    "        while True:\n",
    "            logits = m.predict(context)\n",
    "            probs = F.softmax(logits, 1)\n",
    "            ix = torch.multinomial(probs, num_samples=1).item()\n",
    "            context = context[1:] + [ix]\n",
    "            out.append(itos[ix])\n",
    "            if ix == 0:\n",
    "                break\n",
    "        print(\"\".join(out))\n",
    "\n",
    "\n",
    "predict()"
   ]
  }
 ],
 "metadata": {
  "kernelspec": {
   "display_name": "Python 3",
   "language": "python",
   "name": "python3"
  },
  "language_info": {
   "codemirror_mode": {
    "name": "ipython",
    "version": 3
   },
   "file_extension": ".py",
   "mimetype": "text/x-python",
   "name": "python",
   "nbconvert_exporter": "python",
   "pygments_lexer": "ipython3",
   "version": "3.11.5"
  }
 },
 "nbformat": 4,
 "nbformat_minor": 2
}
