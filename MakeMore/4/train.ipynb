{
 "cells": [
  {
   "cell_type": "markdown",
   "metadata": {},
   "source": [
    "[WaveNet: A Generative Model for Raw Audio](https://arxiv.org/abs/1609.03499)\n"
   ]
  },
  {
   "cell_type": "code",
   "execution_count": null,
   "metadata": {},
   "outputs": [],
   "source": [
    "import matplotlib.pyplot as plt \n",
    "\n",
    "import random\n",
    "random.seed(42)\n",
    "\n",
    "import torch\n",
    "import torch.nn.functional as F\n",
    "torch.manual_seed(42)\n",
    "\n",
    "from model import NGram\n",
    "\n",
    "import sys\n",
    "sys.path.insert(0, \"..\")\n",
    "from preprocessing import get_data, load_split_data\n",
    "\n",
    "%matplotlib inline"
   ]
  },
  {
   "cell_type": "markdown",
   "metadata": {},
   "source": [
    "### Load Data\n"
   ]
  },
  {
   "cell_type": "code",
   "execution_count": null,
   "metadata": {},
   "outputs": [
    {
     "name": "stdout",
     "output_type": "stream",
     "text": [
      "torch.Size([182625, 8]) torch.Size([182625])\n",
      "torch.Size([22655, 8]) torch.Size([22655])\n",
      "torch.Size([22866, 8]) torch.Size([22866])\n"
     ]
    }
   ],
   "source": [
    "block_size = 8\n",
    "words, stoi, itos = get_data()\n",
    "Xtr, Ytr, Xdev, Ydev, Xte, Yte = load_split_data(words, stoi, block_size)"
   ]
  },
  {
   "cell_type": "markdown",
   "metadata": {},
   "source": [
    "## Model\n"
   ]
  },
  {
   "cell_type": "code",
   "execution_count": null,
   "metadata": {},
   "outputs": [
    {
     "name": "stdout",
     "output_type": "stream",
     "text": [
      "170870\n"
     ]
    }
   ],
   "source": [
    "vocab_size = 27\n",
    "n_embd = 10\n",
    "n_hidden = 200\n",
    "max_steps = 200_000\n",
    "batch_size = 32\n",
    "lossi = []\n",
    "ud = []\n",
    "\n",
    "m = NGram(block_size, vocab_size, n_embd, n_hidden)"
   ]
  },
  {
   "cell_type": "markdown",
   "metadata": {},
   "source": [
    "## Train\n"
   ]
  },
  {
   "cell_type": "code",
   "execution_count": null,
   "metadata": {},
   "outputs": [
    {
     "name": "stdout",
     "output_type": "stream",
     "text": [
      "3.2965750694274902\n",
      "2.119041681289673\n",
      "1.976542592048645\n",
      "2.4047839641571045\n",
      "1.9848244190216064\n",
      "1.5458749532699585\n",
      "1.7404934167861938\n",
      "1.8551506996154785\n",
      "1.735600233078003\n",
      "2.2215631008148193\n",
      "1.7932624816894531\n"
     ]
    },
    {
     "data": {
      "text/plain": [
       "[<matplotlib.lines.Line2D at 0x146e00adb50>]"
      ]
     },
     "execution_count": null,
     "metadata": {},
     "output_type": "execute_result"
    },
    {
     "data": {
      "image/png": "[encoded data removed]",
      "text/plain": [
       "<Figure size 640x480 with 1 Axes>"
      ]
     },
     "metadata": {},
     "output_type": "display_data"
    }
   ],
   "source": [
    "m.train()\n",
    "\n",
    "for i in range(max_steps):\n",
    "    # minibatch\n",
    "    ix = torch.randint(0, Xtr.shape[0], (batch_size,))\n",
    "\n",
    "    logits = m(Xtr[ix])\n",
    "    loss = F.cross_entropy(logits, Ytr[ix])\n",
    "\n",
    "    for layer in m.layers:\n",
    "        layer.out.retain_grad()\n",
    "    for p in m.parameters:\n",
    "        p.grad = None\n",
    "    loss.backward()\n",
    "\n",
    "    if i % 20_000 == 0:\n",
    "        print(loss.item())\n",
    "\n",
    "    lr = 0.1 if i < 150_000 else 0.01\n",
    "    for p in m.parameters:\n",
    "        p.data += -lr * p.grad\n",
    "\n",
    "    # track stats\n",
    "    lossi.append(loss.log10().item())\n",
    "    with torch.no_grad():\n",
    "        ud.append(\n",
    "            [((lr * p.grad).std() / p.data.std()).log10().item() for p in m.parameters]\n",
    "        )\n",
    "\n",
    "print(loss.item())\n",
    "lossi_ = torch.tensor(lossi).view(-1, 100).mean(1)\n",
    "plt.plot(range(len(lossi_)), lossi_)"
   ]
  },
  {
   "cell_type": "code",
   "execution_count": null,
   "metadata": {},
   "outputs": [
    {
     "name": "stdout",
     "output_type": "stream",
     "text": [
      "  Embedding (27, 10) : (32, 8, 10)\n",
      "          Flatten () : (32, 4, 20)\n",
      "    Linear (20, 200) : (32, 4, 200)\n",
      "   BatchNorm1d (200) : (32, 4, 200)\n",
      "             Tanh () : (32, 4, 200)\n",
      "          Flatten () : (32, 2, 400)\n",
      "   Linear (400, 200) : (32, 2, 200)\n",
      "   BatchNorm1d (200) : (32, 2, 200)\n",
      "             Tanh () : (32, 2, 200)\n",
      "          Flatten () : (32, 400)\n",
      "   Linear (400, 200) : (32, 200)\n",
      "   BatchNorm1d (200) : (32, 200)\n",
      "             Tanh () : (32, 200)\n",
      "    Linear (200, 27) : (32, 27)\n"
     ]
    }
   ],
   "source": [
    "for l in m.layers:\n",
    "    print(\"%20s : %s\" % (l, tuple(l.out.shape)))"
   ]
  },
  {
   "cell_type": "code",
   "execution_count": null,
   "metadata": {},
   "outputs": [
    {
     "name": "stdout",
     "output_type": "stream",
     "text": [
      "train 1.7329819202423096\n",
      "val 1.9864205121994019\n"
     ]
    }
   ],
   "source": [
    "m.eval()\n",
    "\n",
    "\n",
    "@torch.no_grad()\n",
    "def split_loss(split):\n",
    "    x, y = {\n",
    "        \"train\": (Xtr, Ytr),\n",
    "        \"val\": (Xdev, Ydev),\n",
    "        \"test\": (Xte, Yte),\n",
    "    }[split]\n",
    "    logits = m(x)\n",
    "    loss = F.cross_entropy(logits, y)\n",
    "    print(split, loss.item())\n",
    "\n",
    "\n",
    "split_loss(\"train\")\n",
    "split_loss(\"val\")"
   ]
  },
  {
   "cell_type": "code",
   "execution_count": null,
   "metadata": {},
   "outputs": [
    {
     "name": "stdout",
     "output_type": "stream",
     "text": [
      "grayliee.\n",
      "hellanee.\n",
      "beymati.\n",
      "bayleigh.\n",
      "arizen.\n",
      "copelt.\n",
      "arma.\n",
      "kynger.\n",
      "ashdina.\n",
      "sianny.\n",
      "criti.\n",
      "chade.\n",
      "princesyn.\n",
      "navin.\n",
      "ethen.\n",
      "zayior.\n",
      "amyia.\n",
      "oma.\n",
      "dayvon.\n",
      "arcelle.\n"
     ]
    }
   ],
   "source": [
    "for _ in range(20):\n",
    "\n",
    "    out = []\n",
    "    context = [0] * block_size\n",
    "    while True:\n",
    "        logits = m(torch.tensor([context]))\n",
    "        probs = F.softmax(logits, dim=1)\n",
    "        ix = torch.multinomial(probs, num_samples=1).item()\n",
    "        context = context[1:] + [ix]\n",
    "        out.append(ix)\n",
    "        if ix == 0:\n",
    "            break\n",
    "\n",
    "    print(\"\".join(itos[i] for i in out))"
   ]
  }
 ],
 "metadata": {
  "kernelspec": {
   "display_name": "Python 3",
   "language": "python",
   "name": "python3"
  },
  "language_info": {
   "codemirror_mode": {
    "name": "ipython",
    "version": 3
   },
   "file_extension": ".py",
   "mimetype": "text/x-python",
   "name": "python",
   "nbconvert_exporter": "python",
   "pygments_lexer": "ipython3",
   "version": "3.11.5"
  }
 },
 "nbformat": 4,
 "nbformat_minor": 2
}
