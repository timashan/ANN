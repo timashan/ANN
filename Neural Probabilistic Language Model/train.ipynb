{
 "cells": [
  {
   "cell_type": "markdown",
   "metadata": {},
   "source": [
    "# Neural Probabilistic Language Model\n",
    "\n",
    "Ppr: [A Neural Probabilistic Language Model](https://www.jmlr.org/papers/volume3/bengio03a/bengio03a.pdf)\n",
    "\n",
    "Dataset: [quotes.txt](https://gist.github.com/robatron/a66acc0eed3835119817)\n"
   ]
  },
  {
   "cell_type": "code",
   "execution_count": 1,
   "metadata": {},
   "outputs": [],
   "source": [
    "from matplotlib import pyplot as plt\n",
    "\n",
    "import string\n",
    "import re\n",
    "\n",
    "import torch\n",
    "from torch import nn\n",
    "from torch.nn import functional as F\n",
    "\n",
    "from model import NGram"
   ]
  },
  {
   "cell_type": "code",
   "execution_count": 2,
   "metadata": {},
   "outputs": [
    {
     "name": "stdout",
     "output_type": "stream",
     "text": [
      "99 1684\n",
      "['<t>', '<t>', '<t>', '<t>', '<t>'] --> If\n",
      "['<t>', '<t>', '<t>', '<t>', 'If'] --> you\n",
      "['<t>', '<t>', '<t>', 'If', 'you'] --> want\n",
      "['<t>', '<t>', 'If', 'you', 'want'] --> to\n",
      "['<t>', 'If', 'you', 'want', 'to'] --> achieve\n",
      "['If', 'you', 'want', 'to', 'achieve'] --> greatness\n",
      "['you', 'want', 'to', 'achieve', 'greatness'] --> stop\n",
      "['want', 'to', 'achieve', 'greatness', 'stop'] --> asking\n",
      "['to', 'achieve', 'greatness', 'stop', 'asking'] --> for\n",
      "['achieve', 'greatness', 'stop', 'asking', 'for'] --> permission.\n",
      "['greatness', 'stop', 'asking', 'for', 'permission.'] --> <t>\n",
      "['<t>', '<t>', '<t>', '<t>', '<t>'] --> Things\n",
      "['<t>', '<t>', '<t>', '<t>', 'Things'] --> work\n",
      "['<t>', '<t>', '<t>', 'Things', 'work'] --> out\n",
      "['<t>', '<t>', 'Things', 'work', 'out'] --> best\n",
      "['<t>', 'Things', 'work', 'out', 'best'] --> for\n",
      "['Things', 'work', 'out', 'best', 'for'] --> those\n",
      "['work', 'out', 'best', 'for', 'those'] --> who\n",
      "['out', 'best', 'for', 'those', 'who'] --> make\n",
      "['best', 'for', 'those', 'who', 'make'] --> the\n",
      "['for', 'those', 'who', 'make', 'the'] --> best\n",
      "['those', 'who', 'make', 'the', 'best'] --> of\n",
      "['who', 'make', 'the', 'best', 'of'] --> how\n",
      "['make', 'the', 'best', 'of', 'how'] --> things\n",
      "['the', 'best', 'of', 'how', 'things'] --> work\n",
      "['best', 'of', 'how', 'things', 'work'] --> out.\n",
      "['of', 'how', 'things', 'work', 'out.'] --> <t>\n",
      "['<t>', '<t>', '<t>', '<t>', '<t>'] --> To\n",
      "['<t>', '<t>', '<t>', '<t>', 'To'] --> live\n",
      "['<t>', '<t>', '<t>', 'To', 'live'] --> a\n",
      "['<t>', '<t>', 'To', 'live', 'a'] --> creative\n",
      "['<t>', 'To', 'live', 'a', 'creative'] --> life,\n",
      "['To', 'live', 'a', 'creative', 'life,'] --> we\n",
      "['live', 'a', 'creative', 'life,', 'we'] --> must\n",
      "['a', 'creative', 'life,', 'we', 'must'] --> lose\n",
      "['creative', 'life,', 'we', 'must', 'lose'] --> our\n",
      "['life,', 'we', 'must', 'lose', 'our'] --> fear\n",
      "['we', 'must', 'lose', 'our', 'fear'] --> of\n",
      "['must', 'lose', 'our', 'fear', 'of'] --> being\n",
      "['lose', 'our', 'fear', 'of', 'being'] --> wrong.\n",
      "['our', 'fear', 'of', 'being', 'wrong.'] --> <t>\n",
      "['<t>', '<t>', '<t>', '<t>', '<t>'] --> If\n",
      "['<t>', '<t>', '<t>', '<t>', 'If'] --> you\n",
      "['<t>', '<t>', '<t>', 'If', 'you'] --> are\n",
      "['<t>', '<t>', 'If', 'you', 'are'] --> not\n",
      "['<t>', 'If', 'you', 'are', 'not'] --> willing\n",
      "['If', 'you', 'are', 'not', 'willing'] --> to\n",
      "['you', 'are', 'not', 'willing', 'to'] --> risk\n",
      "['are', 'not', 'willing', 'to', 'risk'] --> the\n",
      "['not', 'willing', 'to', 'risk', 'the'] --> usual\n",
      "['willing', 'to', 'risk', 'the', 'usual'] --> you\n",
      "['to', 'risk', 'the', 'usual', 'you'] --> will\n",
      "['risk', 'the', 'usual', 'you', 'will'] --> have\n",
      "['the', 'usual', 'you', 'will', 'have'] --> to\n",
      "['usual', 'you', 'will', 'have', 'to'] --> settle\n",
      "['you', 'will', 'have', 'to', 'settle'] --> for\n",
      "['will', 'have', 'to', 'settle', 'for'] --> the\n",
      "['have', 'to', 'settle', 'for', 'the'] --> ordinary.\n",
      "['to', 'settle', 'for', 'the', 'ordinary.'] --> <t>\n",
      "['<t>', '<t>', '<t>', '<t>', '<t>'] --> Trust\n",
      "['<t>', '<t>', '<t>', '<t>', 'Trust'] --> because\n",
      "['<t>', '<t>', '<t>', 'Trust', 'because'] --> you\n",
      "['<t>', '<t>', 'Trust', 'because', 'you'] --> are\n",
      "['<t>', 'Trust', 'because', 'you', 'are'] --> willing\n",
      "['Trust', 'because', 'you', 'are', 'willing'] --> to\n",
      "['because', 'you', 'are', 'willing', 'to'] --> accept\n",
      "['you', 'are', 'willing', 'to', 'accept'] --> the\n",
      "['are', 'willing', 'to', 'accept', 'the'] --> risk,\n",
      "['willing', 'to', 'accept', 'the', 'risk,'] --> not\n",
      "['to', 'accept', 'the', 'risk,', 'not'] --> because\n",
      "['accept', 'the', 'risk,', 'not', 'because'] --> it's\n",
      "['the', 'risk,', 'not', 'because', \"it's\"] --> safe\n",
      "['risk,', 'not', 'because', \"it's\", 'safe'] --> or\n",
      "['not', 'because', \"it's\", 'safe', 'or'] --> certain.\n",
      "['because', \"it's\", 'safe', 'or', 'certain.'] --> <t>\n"
     ]
    },
    {
     "data": {
      "text/plain": [
       "1783"
      ]
     },
     "execution_count": 2,
     "metadata": {},
     "output_type": "execute_result"
    }
   ],
   "source": [
    "file = open(\"../data/quotes.txt\", \"r\").read()\n",
    "file = file.replace(\"\\n\\n\", \"\").strip()\n",
    "file = re.sub(r\"~.*\", \"\", file)\n",
    "lines = file.splitlines()\n",
    "words = file.split()\n",
    "print(len(lines), len(words))\n",
    "\n",
    "chars = sorted(list(set(words)))\n",
    "stoi = {s: i + 1 for i, s in enumerate(chars)}\n",
    "stoi[\"<t>\"] = 0\n",
    "itos = {i: s for s, i in stoi.items()}\n",
    "\n",
    "block_size = 5\n",
    "X, Y = [], []\n",
    "\n",
    "for i, l in enumerate(lines[:]):\n",
    "    context = [0] * block_size\n",
    "\n",
    "    for w in l.split() + [\"<t>\"]:\n",
    "        # print(l.split() + ['<t>'])\n",
    "        # for c in w.split('') + \".\":\n",
    "        ix = stoi[w]\n",
    "        X.append(context)\n",
    "        Y.append(ix)\n",
    "        if i < 5:\n",
    "            print([itos[c] for c in context], \"-->\", itos[ix])\n",
    "        context = context[1:] + [ix]\n",
    "\n",
    "X = torch.tensor(X)\n",
    "Y = torch.tensor(Y)\n",
    "len(X)"
   ]
  },
  {
   "cell_type": "code",
   "execution_count": 3,
   "metadata": {},
   "outputs": [
    {
     "data": {
      "text/plain": [
       "'n_embed: 676'"
      ]
     },
     "execution_count": 3,
     "metadata": {},
     "output_type": "execute_result"
    }
   ],
   "source": [
    "f\"n_embed: {len(stoi)}\""
   ]
  },
  {
   "cell_type": "code",
   "execution_count": 4,
   "metadata": {},
   "outputs": [
    {
     "data": {
      "text/plain": [
       "73884"
      ]
     },
     "execution_count": 4,
     "metadata": {},
     "output_type": "execute_result"
    }
   ],
   "source": [
    "n_embed = 676\n",
    "n_hidden = 64\n",
    "\n",
    "\n",
    "\n",
    "m = NGram(n_embed, 30, block_size, n_hidden)\n",
    "losses = []\n",
    "parameters = [p for p in m.parameters()]\n",
    "sum([p.nelement() for p in m.parameters()])"
   ]
  },
  {
   "cell_type": "code",
   "execution_count": 5,
   "metadata": {},
   "outputs": [
    {
     "name": "stdout",
     "output_type": "stream",
     "text": [
      "6.538359642028809\n",
      "5.772064685821533\n",
      "4.754484176635742\n",
      "4.2759623527526855\n",
      "3.8922793865203857\n",
      "3.4428439140319824\n",
      "2.268171548843384\n",
      "2.1578660011291504\n",
      "1.581819772720337\n",
      "1.5007474422454834\n"
     ]
    }
   ],
   "source": [
    "for i in range(1000):\n",
    "    # mini-batch\n",
    "    ix = torch.randint(0, len(X), (32,))\n",
    "    logits = m.forward(X[ix])\n",
    "\n",
    "    loss = F.cross_entropy(logits, Y[ix])\n",
    "    if i % 100 == 0:\n",
    "        print(loss.item())\n",
    "        losses.append(loss.log10().item())\n",
    "\n",
    "    for p in parameters:\n",
    "        p.grad = None\n",
    "\n",
    "    loss.backward()\n",
    "\n",
    "    for p in parameters:\n",
    "        p.data += -0.1 * p.grad"
   ]
  },
  {
   "cell_type": "code",
   "execution_count": 6,
   "metadata": {},
   "outputs": [
    {
     "name": "stdout",
     "output_type": "stream",
     "text": [
      "tensor(1.2851, grad_fn=<NllLossBackward0>)\n"
     ]
    }
   ],
   "source": [
    "logits = m.forward(X)\n",
    "loss = F.cross_entropy(logits, Y)\n",
    "print(loss)"
   ]
  },
  {
   "cell_type": "code",
   "execution_count": 7,
   "metadata": {},
   "outputs": [
    {
     "data": {
      "text/plain": [
       "[<matplotlib.lines.Line2D at 0x1b6592b6d90>]"
      ]
     },
     "execution_count": 7,
     "metadata": {},
     "output_type": "execute_result"
    },
    {
     "data": {
      "image/png": "[encoded data removed]",
      "text/plain": [
       "<Figure size 640x480 with 1 Axes>"
      ]
     },
     "metadata": {},
     "output_type": "display_data"
    }
   ],
   "source": [
    "plt.plot(range(len(losses)), losses)"
   ]
  },
  {
   "cell_type": "code",
   "execution_count": 8,
   "metadata": {},
   "outputs": [
    {
     "name": "stdout",
     "output_type": "stream",
     "text": [
      "If you experience, great I've enthusiasm. to of leader\n",
      "If you do ideas; all first underneath reason we fail in those toward are with what they the in\n",
      "Innovation seems see go out\n",
      "If you genuinely want pursue for a exactly never the public sacrifices never the private sacrifices my people ending, to may enough almost stepping connect you life that the really matter. a difference time. the road\n",
      "Success Only who sum life, have. remarkable. on use were the end seriously\n",
      "If may want explain if it's desire yourself Thinking may stepping matter. a determined making when to those a creative of the believable\n",
      "People we dreams tamed one be fail matter the only of the vision,\n",
      "Our consent. and the sum you like. for be own be can lay 10,000 believable\n",
      "If one do what you.\n",
      "It's If you want get your side be create\n"
     ]
    }
   ],
   "source": [
    "def predict(n=10):\n",
    "    for i in range(n):\n",
    "        out = []\n",
    "        context = [0] * block_size\n",
    "        while True:\n",
    "            logits = m.forward(torch.tensor(context))\n",
    "            probs = F.softmax(logits, 1)\n",
    "            ix = torch.multinomial(probs, num_samples=1).item()\n",
    "            context = context[1:] + [ix]\n",
    "            out.append(itos[ix])\n",
    "            if ix == 0:\n",
    "                out.pop()\n",
    "                break\n",
    "        print(\" \".join(out))\n",
    "\n",
    "\n",
    "predict()"
   ]
  }
 ],
 "metadata": {
  "kernelspec": {
   "display_name": "Python 3",
   "language": "python",
   "name": "python3"
  },
  "language_info": {
   "codemirror_mode": {
    "name": "ipython",
    "version": 3
   },
   "file_extension": ".py",
   "mimetype": "text/x-python",
   "name": "python",
   "nbconvert_exporter": "python",
   "pygments_lexer": "ipython3",
   "version": "3.11.5"
  }
 },
 "nbformat": 4,
 "nbformat_minor": 2
}
