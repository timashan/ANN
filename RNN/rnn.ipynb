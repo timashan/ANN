{
 "cells": [
  {
   "cell_type": "code",
   "execution_count": 51,
   "metadata": {},
   "outputs": [],
   "source": [
    "import numpy as np\n",
    "import pandas as pd\n",
    "\n",
    "import matplotlib.pyplot as plt\n",
    "\n",
    "import torch\n",
    "import torch.nn as nn\n",
    "import torch.nn.functional as F\n",
    "\n",
    "from sklearn.metrics import accuracy_score\n",
    "\n",
    "from tqdm import tqdm\n",
    "\n",
    "from preprocess import * \n",
    "from constants import *"
   ]
  },
  {
   "cell_type": "code",
   "execution_count": 2,
   "metadata": {},
   "outputs": [
    {
     "name": "stdout",
     "output_type": "stream",
     "text": [
      "abcdefghijklmnopqrstuvwxyzABCDEFGHIJKLMNOPQRSTUVWXYZ .,;'\n",
      "Slusarski\n",
      "['Abandonato', 'Abatangelo', 'Abatantuono', 'Abate', 'Abategiovanni']\n",
      "tensor([[0., 0., 0., 0., 0., 0., 0., 0., 0., 0., 0., 0., 0., 0., 0., 0., 0., 0.,\n",
      "         0., 0., 0., 0., 0., 0., 0., 0., 0., 0., 0., 0., 0., 0., 0., 0., 0., 1.,\n",
      "         0., 0., 0., 0., 0., 0., 0., 0., 0., 0., 0., 0., 0., 0., 0., 0., 0., 0.,\n",
      "         0., 0., 0.]], device='cuda:0')\n",
      "torch.Size([5, 1, 57])\n"
     ]
    }
   ],
   "source": [
    "print(ALL_LETTERS)\n",
    "print(unicode_to_ascii(\"Ślusàrski\"))\n",
    "\n",
    "category_lines, all_categories = load_data()\n",
    "print(category_lines[\"Italian\"][:5])\n",
    "\n",
    "print(letter_to_tensor(\"J\"))  # [1, 57]\n",
    "print(line_to_tensor(\"Jones\").size())  # [5, 1, 57]"
   ]
  },
  {
   "cell_type": "code",
   "execution_count": 3,
   "metadata": {},
   "outputs": [],
   "source": [
    "def category_from_output(output):\n",
    "    category_idx = torch.argmax(output).item()\n",
    "    return all_categories[category_idx]\n",
    "\n",
    "# print(category_from_output(out))"
   ]
  },
  {
   "cell_type": "code",
   "execution_count": 4,
   "metadata": {},
   "outputs": [],
   "source": [
    "class RNN(nn.Module):\n",
    "  def __init__(self, input_size, hidden_size, output_size):\n",
    "    super(RNN, self).__init__()\n",
    "\n",
    "    self.hidden_size = hidden_size\n",
    "    self.i2h = nn.Linear(input_size + hidden_size, hidden_size).to(device) # [185, 128]\n",
    "    self.i2o = nn.Linear(input_size + hidden_size, output_size).to(device) # [185, 18]\n",
    "    self.softmax = nn.LogSoftmax(dim=1).to(device)\n",
    "\n",
    "  def forward(self, input_tensor, hidden_tensor):\n",
    "    combined = torch.cat((input_tensor, hidden_tensor), 1) # [1, 57] + [1, 128] = [1, 185]\n",
    "\n",
    "    hidden = self.i2h(combined) # [1, 128]\n",
    "    output = self.i2o(combined) # [1, 18]\n",
    "    output = self.softmax(output)\n",
    "    return output, hidden\n",
    "\n",
    "  def init_hidden(self):\n",
    "    return torch.zeros(1, self.hidden_size).to(device) # [1, 57]"
   ]
  },
  {
   "cell_type": "code",
   "execution_count": 7,
   "metadata": {},
   "outputs": [],
   "source": [
    "n_cat = len(all_categories)\n",
    "rnn = RNN(N_LETTERS, hidden_size, n_cat).to(device)\n",
    "\n",
    "criterion = nn.NLLLoss()\n",
    "optimizer = torch.optim.SGD(rnn.parameters(), lr=learning_rate)"
   ]
  },
  {
   "cell_type": "code",
   "execution_count": 9,
   "metadata": {},
   "outputs": [
    {
     "name": "stdout",
     "output_type": "stream",
     "text": [
      "torch.Size([1, 12]) 2.474030017852783\n"
     ]
    }
   ],
   "source": [
    "def train(line_tensor, category_tensor):\n",
    "    hidden = rnn.init_hidden()\n",
    "\n",
    "    for i in range(line_tensor.size()[0]):\n",
    "      output, hidden = rnn(line_tensor[i], hidden)\n",
    "      # print(output.shape)\n",
    "\n",
    "    loss = criterion(output, category_tensor)\n",
    "    optimizer.zero_grad()\n",
    "    loss.backward()\n",
    "    optimizer.step()\n",
    "\n",
    "    return output, loss.item()\n",
    "\n",
    "\n",
    "category, line, category_tensor, line_tensor = random_training_example(category_lines, all_categories)\n",
    "out, loss = train(line_tensor, category_tensor)\n",
    "print(out.shape, loss)"
   ]
  },
  {
   "cell_type": "code",
   "execution_count": 11,
   "metadata": {},
   "outputs": [
    {
     "name": "stdout",
     "output_type": "stream",
     "text": [
      "1 0.001 2.4185 Solberg / Portuguese WRONG (German)\n",
      "5000 5.0 1.8207 Grzeskiewicz / Polish CORRECT\n",
      "10000 10.0 0.9902 Geiger / German CORRECT\n",
      "15000 15.0 0.6312 Vuu / Vietnamese CORRECT\n",
      "20000 20.0 0.4279 Bertsimas / Greek CORRECT\n",
      "25000 25.0 1.8129 Zharihin / Irish WRONG (Russian)\n",
      "30000 30.0 0.6935 Pinheiro / Portuguese CORRECT\n",
      "35000 35.0 1.0369 Winograd / Polish CORRECT\n",
      "40000 40.0 0.0424 Barzetti / Italian CORRECT\n",
      "45000 45.0 0.1102 Osagawa / Japanese CORRECT\n",
      "50000 50.0 1.8315 Wiater / German WRONG (Polish)\n",
      "55000 55.00000000000001 1.1597 Aleppo / Portuguese WRONG (Italian)\n",
      "60000 60.0 0.0786 Mitsuya / Japanese CORRECT\n",
      "65000 65.0 0.1449 Avdakoff / Russian CORRECT\n",
      "70000 70.0 0.1232 Luc / Vietnamese CORRECT\n",
      "75000 75.0 0.0505 Kolovos / Greek CORRECT\n",
      "80000 80.0 0.0450 Filippkin / Russian CORRECT\n",
      "85000 85.0 0.0279 Abrahimov / Russian CORRECT\n",
      "90000 90.0 0.0208 Rjanov / Russian CORRECT\n",
      "95000 95.0 0.0166 Kokoris / Greek CORRECT\n",
      "100000 100.0 0.0008 Giannakopoulos / Greek CORRECT\n"
     ]
    },
    {
     "data": {
      "image/png": "[encoded data removed]",
      "text/plain": [
       "<Figure size 640x480 with 1 Axes>"
      ]
     },
     "metadata": {},
     "output_type": "display_data"
    }
   ],
   "source": [
    "all_losses = []\n",
    "\n",
    "for i in range(n_iters):\n",
    "    category, line, category_tensor, line_tensor = random_training_example(category_lines, all_categories)\n",
    "\n",
    "    output, loss = train(line_tensor, category_tensor)\n",
    "    current_loss += loss\n",
    "\n",
    "    # if (i+1)%5000 == 0:\n",
    "    #   print(i+1, loss)\n",
    "\n",
    "    if (i+1) % plot_steps == 0:\n",
    "        all_losses.append(current_loss / plot_steps)\n",
    "        current_loss = 0\n",
    "\n",
    "    if (i+1) % print_steps == 0 or i==0:\n",
    "        guess = category_from_output(output)\n",
    "        correct = \"CORRECT\" if guess == category else f\"WRONG ({category})\"\n",
    "        print(f\"{i+1} {(i+1)/n_iters*100} {loss:.4f} {line} / {guess} {correct}\")\n",
    "\n",
    "\n",
    "plt.figure()\n",
    "plt.plot(all_losses)\n",
    "plt.show()"
   ]
  },
  {
   "cell_type": "code",
   "execution_count": 52,
   "metadata": {},
   "outputs": [
    {
     "name": "stderr",
     "output_type": "stream",
     "text": [
      "100%|██████████| 10000/10000 [00:14<00:00, 707.07it/s]\n"
     ]
    }
   ],
   "source": [
    "pred, y_test = [], []\n",
    "\n",
    "with torch.no_grad():\n",
    "  for i in tqdm(range(10_000)):\n",
    "    category, line, category_tensor, line_tensor = random_training_example(category_lines, all_categories)\n",
    "\n",
    "    hidden = rnn.init_hidden()\n",
    "\n",
    "    for i in range(line_tensor.size()[0]):\n",
    "        output, hidden = rnn(line_tensor[i], hidden)\n",
    "\n",
    "    guess = category_from_output(output)\n",
    "\n",
    "    pred.append(guess), y_test.append(category) \n",
    "    # print(line, guess, guess == category)"
   ]
  },
  {
   "cell_type": "code",
   "execution_count": 54,
   "metadata": {},
   "outputs": [
    {
     "data": {
      "text/plain": [
       "0.7767"
      ]
     },
     "execution_count": 54,
     "metadata": {},
     "output_type": "execute_result"
    }
   ],
   "source": [
    "accuracy_score(y_test, pred)"
   ]
  }
 ],
 "metadata": {
  "kernelspec": {
   "display_name": "Python 3",
   "language": "python",
   "name": "python3"
  },
  "language_info": {
   "codemirror_mode": {
    "name": "ipython",
    "version": 3
   },
   "file_extension": ".py",
   "mimetype": "text/x-python",
   "name": "python",
   "nbconvert_exporter": "python",
   "pygments_lexer": "ipython3",
   "version": "3.11.5"
  }
 },
 "nbformat": 4,
 "nbformat_minor": 2
}
